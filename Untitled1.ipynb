{
  "nbformat": 4,
  "nbformat_minor": 0,
  "metadata": {
    "colab": {
      "provenance": [],
      "authorship_tag": "ABX9TyO0tmWIKw5IyrgJoW7DM92Z",
      "include_colab_link": true
    },
    "kernelspec": {
      "name": "python3",
      "display_name": "Python 3"
    },
    "language_info": {
      "name": "python"
    }
  },
  "cells": [
    {
      "cell_type": "markdown",
      "metadata": {
        "id": "view-in-github",
        "colab_type": "text"
      },
      "source": [
        "<a href=\"https://colab.research.google.com/github/Harshini-Reddy-V/HR_700769272/blob/main/Untitled1.ipynb\" target=\"_parent\"><img src=\"https://colab.research.google.com/assets/colab-badge.svg\" alt=\"Open In Colab\"/></a>"
      ]
    },
    {
      "cell_type": "code",
      "execution_count": 9,
      "metadata": {
        "colab": {
          "base_uri": "https://localhost:8080/"
        },
        "id": "oUDFsjgwF6dR",
        "outputId": "985502c8-9514-45b5-bed1-a0d950f1bc8c"
      },
      "outputs": [
        {
          "output_type": "stream",
          "name": "stdout",
          "text": [
            "Instance count: 2, Class count: 3\n",
            "Instance count: 1, Class count: 3\n"
          ]
        }
      ],
      "source": [
        "class Counter:\n",
        "    count = 0  # Class variable shared across all instances\n",
        "\n",
        "    def __init__(self):\n",
        "        self._count = 0  # Instance variable, unique to each object\n",
        "\n",
        "    def increment(self):\n",
        "        self._count += 1         # Increment instance-specific counter\n",
        "        Counter.count += 1       # Increment shared class-level counter\n",
        "\n",
        "    def get_counts(self):\n",
        "        return f\"Instance count: {self._count}, Class count: {Counter.count}\"\n",
        "\n",
        "\n",
        "# Create two Counter objects\n",
        "a = Counter()\n",
        "b = Counter()\n",
        "\n",
        "# Call increment methods\n",
        "a.increment()   # a._count = 1, Counter.count = 1\n",
        "a.increment()   # a._count = 2, Counter.count = 2\n",
        "b.increment()   # b._count = 1, Counter.count = 3\n",
        "\n",
        "# Output the counts\n",
        "print(a.get_counts())  # Expected: Instance count: 2, Class count: 3\n",
        "print(b.get_counts())  # Expected: Instance count: 1, Class count: 3\n"
      ]
    },
    {
      "cell_type": "code",
      "source": [
        "def sum_all(*args):\n",
        "    return sum(args)\n",
        "\n",
        "print(\"Sum of 1, 2, 3 is:\", sum_all(1, 2, 3))\n",
        "print(\"Sum of 4, 5, 6, 7 is:\", sum_all(4, 5, 6, 7))\n"
      ],
      "metadata": {
        "colab": {
          "base_uri": "https://localhost:8080/"
        },
        "id": "07rQcDRqHX3w",
        "outputId": "45cbaf5e-6f44-41a7-eb8c-dd9dfd5e595d"
      },
      "execution_count": 10,
      "outputs": [
        {
          "output_type": "stream",
          "name": "stdout",
          "text": [
            "Sum of 1, 2, 3 is: 6\n",
            "Sum of 4, 5, 6, 7 is: 22\n"
          ]
        }
      ]
    },
    {
      "cell_type": "code",
      "source": [
        "def first_word(words):\n",
        "    sorted_words = sorted(words)  # Sort the list alphabetically\n",
        "    return sorted_words[0]        # Return the first element from the sorted list\n",
        "\n",
        "# Example usage:\n",
        "students = ['Mary', 'Zelda', 'Jimmy', 'Jack', 'Bartholomew', 'Gertrude']\n",
        "print(first_word(students))  # Output: 'Bartholomew'\n"
      ],
      "metadata": {
        "colab": {
          "base_uri": "https://localhost:8080/"
        },
        "id": "lWj5AM1FHt5q",
        "outputId": "3e3f93c7-440e-42fa-d7c9-e905896ce1cb"
      },
      "execution_count": 11,
      "outputs": [
        {
          "output_type": "stream",
          "name": "stdout",
          "text": [
            "Bartholomew\n"
          ]
        }
      ]
    },
    {
      "cell_type": "code",
      "source": [
        "class Employee:\n",
        "    # Class variable to count the number of employees\n",
        "    employee_count = 0\n",
        "    total_salary = 0\n",
        "\n",
        "    def __init__(self, name, family, salary, department):\n",
        "        self.name = name\n",
        "        self.family = family\n",
        "        self.salary = salary\n",
        "        self.department = department\n",
        "\n",
        "        # Update class variables\n",
        "        Employee.employee_count += 1\n",
        "        Employee.total_salary += salary\n",
        "\n",
        "    @classmethod\n",
        "    def average_salary(cls):\n",
        "        if cls.employee_count == 0:\n",
        "            return 0\n",
        "        return cls.total_salary / cls.employee_count\n",
        "\n",
        "\n",
        "# FulltimeEmployee inherits from Employee\n",
        "class FulltimeEmployee(Employee):\n",
        "    def __init__(self, name, family, salary, department):\n",
        "        super().__init__(name, family, salary, department)\n",
        "\n",
        "\n",
        "# Creating instances of Employee and FulltimeEmployee\n",
        "emp1 = Employee(\"Arjun\", \"Reddy\", 100000, \"Devlopment\")\n",
        "emp2 = FulltimeEmployee(\"Bhargav\", \"Verma\", 70000, \"Engineering\")\n",
        "emp3 = FulltimeEmployee(\"Sidharth\", \"Reddy\", 80000, \"Marketing\")\n",
        "emp4 = Employee(\"Harsh\", \"Vardhan\", 100000, \"Production\")\n",
        "\n",
        "# Output the total employee count\n",
        "print(\"Total Employees:\", Employee.employee_count)\n",
        "\n",
        "# Output the average salary\n",
        "print(\"Average Salary:\", Employee.average_salary())\n"
      ],
      "metadata": {
        "colab": {
          "base_uri": "https://localhost:8080/"
        },
        "id": "J0T2JAoAI1cS",
        "outputId": "917fa1eb-e431-4bbc-ebea-678f86df48a9"
      },
      "execution_count": 8,
      "outputs": [
        {
          "output_type": "stream",
          "name": "stdout",
          "text": [
            "Total Employees: 4\n",
            "Average Salary: 87500.0\n"
          ]
        }
      ]
    }
  ]
}